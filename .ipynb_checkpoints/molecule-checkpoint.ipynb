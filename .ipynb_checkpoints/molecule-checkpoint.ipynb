{
 "cells": [
  {
   "cell_type": "code",
   "execution_count": 2,
   "metadata": {},
   "outputs": [],
   "source": [
    "import numpy as np\n",
    "import particle as p"
   ]
  },
  {
   "cell_type": "code",
   "execution_count": 7,
   "metadata": {},
   "outputs": [],
   "source": [
    "class Molecule:\n",
    "    \n",
    "    def __init__(self, Pos1, Pos2, M1, M2, k, L0):\n",
    "        \"\"\"Create a molecule with particle1 having Pos1 position(numpy array of len 2) and M1 mass, and \n",
    "        particle 2 having Pos2 position, M2 mass; their bond has spring constant k and equilibrium length L0\"\"\"\n",
    "        p1 = p.particle(Pos1, M1)\n",
    "        p2 = p.particle(Pos2, M2)\n",
    "        self.p1pos = Pos1\n",
    "        self.p2pos = Pos2\n",
    "        self.k = k\n",
    "        self.l = L0\n",
    "\n",
    "    def get_disp(self):\n",
    "        return self.p1pos - self.p2pos\n",
    "    \n",
    "    def get_force(self):\n",
    "        return (-1) * self.k * (get_disp(self))\n"
   ]
  },
  {
   "cell_type": "code",
   "execution_count": null,
   "metadata": {},
   "outputs": [],
   "source": []
  },
  {
   "cell_type": "code",
   "execution_count": null,
   "metadata": {},
   "outputs": [],
   "source": []
  }
 ],
 "metadata": {
  "kernelspec": {
   "display_name": "Python 3",
   "language": "python",
   "name": "python3"
  },
  "language_info": {
   "codemirror_mode": {
    "name": "ipython",
    "version": 3
   },
   "file_extension": ".py",
   "mimetype": "text/x-python",
   "name": "python",
   "nbconvert_exporter": "python",
   "pygments_lexer": "ipython3",
   "version": "3.6.4"
  }
 },
 "nbformat": 4,
 "nbformat_minor": 2
}
